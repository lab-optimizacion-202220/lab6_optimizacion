{
  "cells": [
    {
      "cell_type": "markdown",
      "metadata": {
        "id": "6uylw-0n6lu_"
      },
      "source": [
        "# Lab dualidad y holgura complementaria\n",
        "\n",
        "## Sebastian Guayacan Mesa\n",
        "## Andrés Felipe Cordero Martinez\n",
        "\n",
        "# Punto 1"
      ]
    },
    {
      "cell_type": "code",
      "execution_count": 2,
      "metadata": {
        "id": "Psjl8Epx6lLv"
      },
      "outputs": [],
      "source": [
        "from matplotlib import pyplot, pylab, mlab\n",
        "from pylab import *\n",
        "from scipy.optimize import linprog\n",
        "import numpy as np\n",
        "import math \n",
        "from math import factorial\n",
        "from scipy.optimize import minimize\n",
        "import sympy as sym\n",
        "from itertools import combinations\n",
        "import pandas as pd\n",
        "import time\n",
        "from IPython.display import display"
      ]
    },
    {
      "cell_type": "code",
      "execution_count": 4,
      "metadata": {
        "id": "eDgf5S5i6jca"
      },
      "outputs": [],
      "source": [
        "def PL (A,b,fun):\n",
        "    dir4 = soluciones_basicas(A,b)\n",
        "    # Se inicializa el vector que guardara el tipo de solución que se presenta\n",
        "    solucion = []\n",
        "    tip_sol = []\n",
        "    base = []\n",
        "    # Se inicializa el vector que guardara el Valor dado por la solución presentada\n",
        "    val = []\n",
        "    ns = []\n",
        "    # Se crea el diccionario que se utilizara para realizar la impresión de la tabla\n",
        "    rta = {\"Solucion\": solucion,\n",
        "            \"Base\": base,\n",
        "            \"Tipo de solucion\": tip_sol,\n",
        "            \"Valor\": val\n",
        "            }\n",
        "    # Para encontrar el tipo de solución se va a hacer un recorrido por las soluciones basicas encontradas en el anterior literal\n",
        "    n=0\n",
        "    for i in dir4[\"Solucion\"]:\n",
        "        \n",
        "        agregar = \"Solucion basica factible\" # El estado por defecto va a ser una solución basica factible\n",
        "        for j in i: # Se recorre cada valor dado en la solucion para encontrar que cumplan con la condicion de factibilidad, todos deben ser mayor o igual a cero\n",
        "            if j <= -0.0: # Si se encuentra un valor negativo entrar a cambiar el valor default de solución basica factible por solucion basica no factible\n",
        "                agregar = \"Solucion basica no factible\" \n",
        "        if agregar == \"Solucion basica factible\":\n",
        "            solucion.append(i)\n",
        "            base.append(dir4[\"Base\"][n])\n",
        "            tip_sol.append(agregar)\n",
        "            ns.append(n)\n",
        "            \n",
        "        n = n +1\n",
        "\n",
        "    # Se inicializa la variable que va a recorrer las soluciones basicas encontradas\n",
        "    d = 0\n",
        "    # Se crea el vector que va a contener la funcion de costos a evaluar\n",
        "     \n",
        "    # Se inicia el recorrido por la bases de las soluciones basicas encontradas\n",
        "    for i in rta[\"Base\"]:\n",
        "            anadir = 0 # Se inicializa el valor evaluado que se agregara a la lista de valor obtenida al evaluar la solucion en la función de costos\n",
        "            f = 0 # Se inicializa la variable que va a recorrer cada valor de la solucion actual\n",
        "            c = 0 # Se inicializa la variable que va a recorrer la posicion actual de la funcion de costos\n",
        "            for j in i[0]: # Se recorre el primer vector entregado por la base\n",
        "                    if j > 0.0:\n",
        "                            anadir += dir4[\"Solucion\"][(ns[d])][f]*fun[c] # Se agrega valor a la variable que tendra la evaluacion de la función de costos\n",
        "                            f += 1 # Se avanza una posición en el vector solución\n",
        "                    c += 1 # Se avanza una posición en la función de costos\n",
        "                    if c == 3: # Una vez avance por todas las posiciones de la funcion de costos pasar a la siguiente solucion basica\n",
        "                            break\n",
        "            val.append(-anadir) # Se agrega la evaluacion de la solucion actual en la funcion de costos a la lista que tiene el valor de la solucion actual en la funcion de costos\n",
        "             # Este valor se multiplica por - para tener de esta forma un resultado del problema maximizado y no minimizado\n",
        "            d += 1 # Se avanza a la siguiente solucion basica\n",
        "        # Se implementa el codigo necesario para usar la función display y mostrar los resultados en la tabla esperada\n",
        "    \n",
        "\n",
        "     \n",
        "    pd.set_option(\"max_colwidth\",100)\n",
        "    df_dir6 = pd.DataFrame(rta)\n",
        "    display (df_dir6)\n",
        "#Esta función fue elaborada para resolver el laboratorio 4 de la clase.\n",
        "def soluciones_basicas (A,b):\n",
        "    sol_bas = []\n",
        "    bases = []\n",
        "    columnas = np.size(A[0])\n",
        "    filas = np.size(b[:,0])\n",
        "    ans = {\"Solucion\": sol_bas,\n",
        "            \"Base\":bases  }\n",
        "    matrices = list (combinations(np.arange(0, columnas, 1),filas))\n",
        "    \n",
        "    for i in range(len(matrices)):\n",
        "        sub_A = []\n",
        "        base =np.zeros((filas,columnas))\n",
        "        for j in ((matrices[i])):\n",
        "                sub_A.append(A[:,j])\n",
        "        sub_A =  (np.array(sub_A)).transpose()\n",
        "        if np.linalg.det(sub_A) !=0:\n",
        "          aux  = np.linalg.solve(sub_A,b)\n",
        "          aux = np.round(aux,5)\n",
        "          base[:,list(matrices[i])]=sub_A \n",
        "          bases.append(base)\n",
        "          sol_bas.append(aux)\n",
        "          \n",
        "    return  ans"
      ]
    },
    {
      "cell_type": "markdown",
      "metadata": {
        "id": "DNE6mtt6tS7-"
      },
      "source": [
        "## Normal"
      ]
    },
    {
      "cell_type": "code",
      "execution_count": 25,
      "metadata": {
        "colab": {
          "base_uri": "https://localhost:8080/",
          "height": 206
        },
        "id": "Hce-aDAT6TPN",
        "outputId": "04e6620c-595b-434d-e6ac-8d5201eec8ab"
      },
      "outputs": [
        {
          "data": {
            "text/html": [
              "<div>\n",
              "<style scoped>\n",
              "    .dataframe tbody tr th:only-of-type {\n",
              "        vertical-align: middle;\n",
              "    }\n",
              "\n",
              "    .dataframe tbody tr th {\n",
              "        vertical-align: top;\n",
              "    }\n",
              "\n",
              "    .dataframe thead th {\n",
              "        text-align: right;\n",
              "    }\n",
              "</style>\n",
              "<table border=\"1\" class=\"dataframe\">\n",
              "  <thead>\n",
              "    <tr style=\"text-align: right;\">\n",
              "      <th></th>\n",
              "      <th>Base</th>\n",
              "      <th>Solucion</th>\n",
              "      <th>Tipo de solucion</th>\n",
              "      <th>Valor</th>\n",
              "    </tr>\n",
              "  </thead>\n",
              "  <tbody>\n",
              "    <tr>\n",
              "      <th>0</th>\n",
              "      <td>[[0.7, 1.0, 0.0, 0.0, 0.0, 0.0], [0.5, 0.8333333333333334, 0.0, 1.0, 0.0, 0.0], [1.0, 0.66666666...</td>\n",
              "      <td>[[300.0], [420.0], [100.0], [128.0]]</td>\n",
              "      <td>Solucion basica factible</td>\n",
              "      <td>[5880.0]</td>\n",
              "    </tr>\n",
              "    <tr>\n",
              "      <th>1</th>\n",
              "      <td>[[0.7, 1.0, 0.0, 0.0, 0.0, 0.0], [0.5, 0.8333333333333334, 0.0, 1.0, 0.0, 0.0], [1.0, 0.66666666...</td>\n",
              "      <td>[[540.0], [252.0], [120.0], [18.0]]</td>\n",
              "      <td>Solucion basica factible</td>\n",
              "      <td>[6048.0]</td>\n",
              "    </tr>\n",
              "    <tr>\n",
              "      <th>2</th>\n",
              "      <td>[[0.7, 0.0, 1.0, 0.0, 0.0, 0.0], [0.5, 0.0, 0.0, 1.0, 0.0, 0.0], [1.0, 0.0, 0.0, 0.0, 0.0, 0.0],...</td>\n",
              "      <td>[[708.0], [134.4], [246.0], [64.2]]</td>\n",
              "      <td>Solucion basica factible</td>\n",
              "      <td>[4956.0]</td>\n",
              "    </tr>\n",
              "    <tr>\n",
              "      <th>3</th>\n",
              "      <td>[[0.0, 1.0, 1.0, 0.0, 0.0, 0.0], [0.0, 0.8333333333333334, 0.0, 1.0, 0.0, 0.0], [0.0, 0.66666666...</td>\n",
              "      <td>[[540.0], [90.0], [150.0], [348.0]]</td>\n",
              "      <td>Solucion basica factible</td>\n",
              "      <td>[4860.0]</td>\n",
              "    </tr>\n",
              "    <tr>\n",
              "      <th>4</th>\n",
              "      <td>[[0.0, 0.0, 1.0, 0.0, 0.0, 0.0], [0.0, 0.0, 0.0, 1.0, 0.0, 0.0], [0.0, 0.0, 0.0, 0.0, 1.0, 0.0],...</td>\n",
              "      <td>[[630.0], [600.0], [708.0], [135.0]]</td>\n",
              "      <td>Solucion basica factible</td>\n",
              "      <td>[-0.0]</td>\n",
              "    </tr>\n",
              "  </tbody>\n",
              "</table>\n",
              "</div>"
            ],
            "text/plain": [
              "                                                                                                  Base  \\\n",
              "0  [[0.7, 1.0, 0.0, 0.0, 0.0, 0.0], [0.5, 0.8333333333333334, 0.0, 1.0, 0.0, 0.0], [1.0, 0.66666666...   \n",
              "1  [[0.7, 1.0, 0.0, 0.0, 0.0, 0.0], [0.5, 0.8333333333333334, 0.0, 1.0, 0.0, 0.0], [1.0, 0.66666666...   \n",
              "2  [[0.7, 0.0, 1.0, 0.0, 0.0, 0.0], [0.5, 0.0, 0.0, 1.0, 0.0, 0.0], [1.0, 0.0, 0.0, 0.0, 0.0, 0.0],...   \n",
              "3  [[0.0, 1.0, 1.0, 0.0, 0.0, 0.0], [0.0, 0.8333333333333334, 0.0, 1.0, 0.0, 0.0], [0.0, 0.66666666...   \n",
              "4  [[0.0, 0.0, 1.0, 0.0, 0.0, 0.0], [0.0, 0.0, 0.0, 1.0, 0.0, 0.0], [0.0, 0.0, 0.0, 0.0, 1.0, 0.0],...   \n",
              "\n",
              "                               Solucion          Tipo de solucion     Valor  \n",
              "0  [[300.0], [420.0], [100.0], [128.0]]  Solucion basica factible  [5880.0]  \n",
              "1   [[540.0], [252.0], [120.0], [18.0]]  Solucion basica factible  [6048.0]  \n",
              "2   [[708.0], [134.4], [246.0], [64.2]]  Solucion basica factible  [4956.0]  \n",
              "3   [[540.0], [90.0], [150.0], [348.0]]  Solucion basica factible  [4860.0]  \n",
              "4  [[630.0], [600.0], [708.0], [135.0]]  Solucion basica factible    [-0.0]  "
            ]
          },
          "metadata": {},
          "output_type": "display_data"
        }
      ],
      "source": [
        "A = np.array([[7/10 ,1,1,0,0,0],[1/2,5/6,0,1,0,0],[1, 2/3, 0,0,1,0], [1/10,1/4,0,0,0,1]])#matriz con los coeficientes de restricciones\n",
        "b=np.array([[630],[600], [708],[135]]) # vector de restricciones\n",
        "s = PL(A,b,[-7,-9,0,0,0,0]) #vector con los coeficientes de la funcion a minimizar    "
      ]
    },
    {
      "cell_type": "markdown",
      "metadata": {},
      "source": [
        "La utilidad obtenida al comercializar productos de ambas líneas es de 6048 dólares y se obtiene con 540 productos de la línea estándar y 252 de la línea deluxe.\n"
      ]
    },
    {
      "cell_type": "markdown",
      "metadata": {
        "id": "2PWfSylFteoW"
      },
      "source": [
        "## Solo vendiendo deluxe:\n",
        "\n",
        "Se contempla el escenario en el que solo se comercializan unidades de la línea Deluxe."
      ]
    },
    {
      "cell_type": "code",
      "execution_count": 26,
      "metadata": {
        "colab": {
          "base_uri": "https://localhost:8080/",
          "height": 206
        },
        "id": "zU5wDvoBjBCR",
        "outputId": "6174746c-d5d9-4195-dd32-d283b1dafd68"
      },
      "outputs": [
        {
          "data": {
            "text/html": [
              "<div>\n",
              "<style scoped>\n",
              "    .dataframe tbody tr th:only-of-type {\n",
              "        vertical-align: middle;\n",
              "    }\n",
              "\n",
              "    .dataframe tbody tr th {\n",
              "        vertical-align: top;\n",
              "    }\n",
              "\n",
              "    .dataframe thead th {\n",
              "        text-align: right;\n",
              "    }\n",
              "</style>\n",
              "<table border=\"1\" class=\"dataframe\">\n",
              "  <thead>\n",
              "    <tr style=\"text-align: right;\">\n",
              "      <th></th>\n",
              "      <th>Base</th>\n",
              "      <th>Solucion</th>\n",
              "      <th>Tipo de solucion</th>\n",
              "      <th>Valor</th>\n",
              "    </tr>\n",
              "  </thead>\n",
              "  <tbody>\n",
              "    <tr>\n",
              "      <th>0</th>\n",
              "      <td>[[0.0, 1.0, 1.0, 0.0, 0.0, 0.0], [0.0, 0.8333333333333334, 0.0, 1.0, 0.0, 0.0], [0.0, 0.66666666...</td>\n",
              "      <td>[[540.0], [90.0], [150.0], [348.0]]</td>\n",
              "      <td>Solucion basica factible</td>\n",
              "      <td>[4860.0]</td>\n",
              "    </tr>\n",
              "    <tr>\n",
              "      <th>1</th>\n",
              "      <td>[[0.0, 0.0, 1.0, 0.0, 0.0, 0.0], [0.0, 0.0, 0.0, 1.0, 0.0, 0.0], [0.0, 0.0, 0.0, 0.0, 1.0, 0.0],...</td>\n",
              "      <td>[[630.0], [600.0], [708.0], [135.0]]</td>\n",
              "      <td>Solucion basica factible</td>\n",
              "      <td>[-0.0]</td>\n",
              "    </tr>\n",
              "  </tbody>\n",
              "</table>\n",
              "</div>"
            ],
            "text/plain": [
              "                                                                                                  Base  \\\n",
              "0  [[0.0, 1.0, 1.0, 0.0, 0.0, 0.0], [0.0, 0.8333333333333334, 0.0, 1.0, 0.0, 0.0], [0.0, 0.66666666...   \n",
              "1  [[0.0, 0.0, 1.0, 0.0, 0.0, 0.0], [0.0, 0.0, 0.0, 1.0, 0.0, 0.0], [0.0, 0.0, 0.0, 0.0, 1.0, 0.0],...   \n",
              "\n",
              "                               Solucion          Tipo de solucion     Valor  \n",
              "0   [[540.0], [90.0], [150.0], [348.0]]  Solucion basica factible  [4860.0]  \n",
              "1  [[630.0], [600.0], [708.0], [135.0]]  Solucion basica factible    [-0.0]  "
            ]
          },
          "metadata": {},
          "output_type": "display_data"
        }
      ],
      "source": [
        "A = np.array([[0 ,1,1,0,0,0],[0,5/6,0,1,0,0],[0, 2/3, 0,0,1,0], [0,1/4,0,0,0,1]])\n",
        "#matriz con los coeficientes de restricciones\n",
        "b=np.array([[630],[600], [708],[135]]) \n",
        " # vector de restricciones\n",
        "s = PL(A,b,[0,-9,0,0,0,0]) \n",
        "#vector con los coeficientes de la funcion a minimizar"
      ]
    },
    {
      "cell_type": "markdown",
      "metadata": {},
      "source": [
        "La utilidad obtenida al comercializar productos de solo la  línea deluxe es de 4860 dólares y se obtiene con 540 productos de la línea deluxe y ninguno de la línea estándar."
      ]
    },
    {
      "cell_type": "markdown",
      "metadata": {
        "id": "TgI6OAMmtgE2"
      },
      "source": [
        "## Solo vendiendo estándar:\n",
        "\n",
        "Así mismo, se contempla la posibilidad de solo vender unidades de la línea estándar\n"
      ]
    },
    {
      "cell_type": "code",
      "execution_count": 27,
      "metadata": {
        "colab": {
          "base_uri": "https://localhost:8080/",
          "height": 206
        },
        "id": "jfU7GkWLlcn5",
        "outputId": "e364257a-eac3-47b8-8e2b-b27429837362"
      },
      "outputs": [
        {
          "data": {
            "text/html": [
              "<div>\n",
              "<style scoped>\n",
              "    .dataframe tbody tr th:only-of-type {\n",
              "        vertical-align: middle;\n",
              "    }\n",
              "\n",
              "    .dataframe tbody tr th {\n",
              "        vertical-align: top;\n",
              "    }\n",
              "\n",
              "    .dataframe thead th {\n",
              "        text-align: right;\n",
              "    }\n",
              "</style>\n",
              "<table border=\"1\" class=\"dataframe\">\n",
              "  <thead>\n",
              "    <tr style=\"text-align: right;\">\n",
              "      <th></th>\n",
              "      <th>Base</th>\n",
              "      <th>Solucion</th>\n",
              "      <th>Tipo de solucion</th>\n",
              "      <th>Valor</th>\n",
              "    </tr>\n",
              "  </thead>\n",
              "  <tbody>\n",
              "    <tr>\n",
              "      <th>0</th>\n",
              "      <td>[[0.7, 0.0, 1.0, 0.0, 0.0, 0.0], [0.5, 0.0, 0.0, 1.0, 0.0, 0.0], [1.0, 0.0, 0.0, 0.0, 0.0, 0.0],...</td>\n",
              "      <td>[[708.0], [134.4], [246.0], [64.2]]</td>\n",
              "      <td>Solucion basica factible</td>\n",
              "      <td>[4956.0]</td>\n",
              "    </tr>\n",
              "    <tr>\n",
              "      <th>1</th>\n",
              "      <td>[[0.0, 0.0, 1.0, 0.0, 0.0, 0.0], [0.0, 0.0, 0.0, 1.0, 0.0, 0.0], [0.0, 0.0, 0.0, 0.0, 1.0, 0.0],...</td>\n",
              "      <td>[[630.0], [600.0], [708.0], [135.0]]</td>\n",
              "      <td>Solucion basica factible</td>\n",
              "      <td>[-0.0]</td>\n",
              "    </tr>\n",
              "  </tbody>\n",
              "</table>\n",
              "</div>"
            ],
            "text/plain": [
              "                                                                                                  Base  \\\n",
              "0  [[0.7, 0.0, 1.0, 0.0, 0.0, 0.0], [0.5, 0.0, 0.0, 1.0, 0.0, 0.0], [1.0, 0.0, 0.0, 0.0, 0.0, 0.0],...   \n",
              "1  [[0.0, 0.0, 1.0, 0.0, 0.0, 0.0], [0.0, 0.0, 0.0, 1.0, 0.0, 0.0], [0.0, 0.0, 0.0, 0.0, 1.0, 0.0],...   \n",
              "\n",
              "                               Solucion          Tipo de solucion     Valor  \n",
              "0   [[708.0], [134.4], [246.0], [64.2]]  Solucion basica factible  [4956.0]  \n",
              "1  [[630.0], [600.0], [708.0], [135.0]]  Solucion basica factible    [-0.0]  "
            ]
          },
          "metadata": {},
          "output_type": "display_data"
        }
      ],
      "source": [
        "A = np.array([[7/10 ,0,1,0,0,0],[1/2,0,0,1,0,0],[1, 0, 0,0,1,0], [1/10,0,0,0,0,1]])\n",
        "#matriz con los coeficientes de restricciones\n",
        "b=np.array([[630],[600], [708],[135]])\n",
        " # vector de restricciones\n",
        "s = PL(A,b,[-7,0,0,0,0,0])\n",
        "#vector con los coeficientes de la funcion a minimizar"
      ]
    },
    {
      "cell_type": "markdown",
      "metadata": {},
      "source": [
        "La utilidad obtenida al comercializar productos de solo la  línea estándar es de 4956 dólares y se obtiene con 708 productos de la línea estándar y ninguno de la línea deluxe."
      ]
    },
    {
      "cell_type": "markdown",
      "metadata": {},
      "source": [
        "Al comparar los tres escenarios mencionados se obtiene la siguiente tabla\n",
        "|Tipo|Valor|Solución|\n",
        "|:----|:----|:----|\n",
        "|normal|6048|[540,252]|\n",
        "|B. estándar|4956|[540,252]|\n",
        "|B. deluxe|4860|[540,252]|\n",
        "\n",
        "Lo cual indica que se generan mayores alternativas cuando se producen productos de la línea estándar y deluxe.\n"
      ]
    },
    {
      "cell_type": "markdown",
      "metadata": {
        "id": "v1PUgvW4tOpB"
      },
      "source": [
        "## Segundo punto \n",
        "\n",
        "El departamento de contabilidad de su empresa le presenta tres estrategias para aumentar la contribución\n",
        "total a la utilidad por parte de las bolsas de golf.\n"
      ]
    },
    {
      "cell_type": "markdown",
      "metadata": {
        "id": "FCMxr-xbtknA"
      },
      "source": [
        "a) \n",
        "\n",
        "Se contempla en escenario de incrementar la utilidad por bolsa para el modelo deluxe a 18 dólares. La utilidad por bolsa del modelo estándar permanece en 7 dólares\n"
      ]
    },
    {
      "cell_type": "code",
      "execution_count": 28,
      "metadata": {
        "colab": {
          "base_uri": "https://localhost:8080/",
          "height": 206
        },
        "id": "f0yjJDVms-UP",
        "outputId": "ada55f30-2050-4e05-a9c9-d32710bb7172"
      },
      "outputs": [
        {
          "data": {
            "text/html": [
              "<div>\n",
              "<style scoped>\n",
              "    .dataframe tbody tr th:only-of-type {\n",
              "        vertical-align: middle;\n",
              "    }\n",
              "\n",
              "    .dataframe tbody tr th {\n",
              "        vertical-align: top;\n",
              "    }\n",
              "\n",
              "    .dataframe thead th {\n",
              "        text-align: right;\n",
              "    }\n",
              "</style>\n",
              "<table border=\"1\" class=\"dataframe\">\n",
              "  <thead>\n",
              "    <tr style=\"text-align: right;\">\n",
              "      <th></th>\n",
              "      <th>Base</th>\n",
              "      <th>Solucion</th>\n",
              "      <th>Tipo de solucion</th>\n",
              "      <th>Valor</th>\n",
              "    </tr>\n",
              "  </thead>\n",
              "  <tbody>\n",
              "    <tr>\n",
              "      <th>0</th>\n",
              "      <td>[[0.7, 1.0, 0.0, 0.0, 0.0, 0.0], [0.5, 0.8333333333333334, 0.0, 1.0, 0.0, 0.0], [1.0, 0.66666666...</td>\n",
              "      <td>[[300.0], [420.0], [100.0], [128.0]]</td>\n",
              "      <td>Solucion basica factible</td>\n",
              "      <td>[9660.0]</td>\n",
              "    </tr>\n",
              "    <tr>\n",
              "      <th>1</th>\n",
              "      <td>[[0.7, 1.0, 0.0, 0.0, 0.0, 0.0], [0.5, 0.8333333333333334, 0.0, 1.0, 0.0, 0.0], [1.0, 0.66666666...</td>\n",
              "      <td>[[540.0], [252.0], [120.0], [18.0]]</td>\n",
              "      <td>Solucion basica factible</td>\n",
              "      <td>[8316.0]</td>\n",
              "    </tr>\n",
              "    <tr>\n",
              "      <th>2</th>\n",
              "      <td>[[0.7, 0.0, 1.0, 0.0, 0.0, 0.0], [0.5, 0.0, 0.0, 1.0, 0.0, 0.0], [1.0, 0.0, 0.0, 0.0, 0.0, 0.0],...</td>\n",
              "      <td>[[708.0], [134.4], [246.0], [64.2]]</td>\n",
              "      <td>Solucion basica factible</td>\n",
              "      <td>[4956.0]</td>\n",
              "    </tr>\n",
              "    <tr>\n",
              "      <th>3</th>\n",
              "      <td>[[0.0, 1.0, 1.0, 0.0, 0.0, 0.0], [0.0, 0.8333333333333334, 0.0, 1.0, 0.0, 0.0], [0.0, 0.66666666...</td>\n",
              "      <td>[[540.0], [90.0], [150.0], [348.0]]</td>\n",
              "      <td>Solucion basica factible</td>\n",
              "      <td>[9720.0]</td>\n",
              "    </tr>\n",
              "    <tr>\n",
              "      <th>4</th>\n",
              "      <td>[[0.0, 0.0, 1.0, 0.0, 0.0, 0.0], [0.0, 0.0, 0.0, 1.0, 0.0, 0.0], [0.0, 0.0, 0.0, 0.0, 1.0, 0.0],...</td>\n",
              "      <td>[[630.0], [600.0], [708.0], [135.0]]</td>\n",
              "      <td>Solucion basica factible</td>\n",
              "      <td>[-0.0]</td>\n",
              "    </tr>\n",
              "  </tbody>\n",
              "</table>\n",
              "</div>"
            ],
            "text/plain": [
              "                                                                                                  Base  \\\n",
              "0  [[0.7, 1.0, 0.0, 0.0, 0.0, 0.0], [0.5, 0.8333333333333334, 0.0, 1.0, 0.0, 0.0], [1.0, 0.66666666...   \n",
              "1  [[0.7, 1.0, 0.0, 0.0, 0.0, 0.0], [0.5, 0.8333333333333334, 0.0, 1.0, 0.0, 0.0], [1.0, 0.66666666...   \n",
              "2  [[0.7, 0.0, 1.0, 0.0, 0.0, 0.0], [0.5, 0.0, 0.0, 1.0, 0.0, 0.0], [1.0, 0.0, 0.0, 0.0, 0.0, 0.0],...   \n",
              "3  [[0.0, 1.0, 1.0, 0.0, 0.0, 0.0], [0.0, 0.8333333333333334, 0.0, 1.0, 0.0, 0.0], [0.0, 0.66666666...   \n",
              "4  [[0.0, 0.0, 1.0, 0.0, 0.0, 0.0], [0.0, 0.0, 0.0, 1.0, 0.0, 0.0], [0.0, 0.0, 0.0, 0.0, 1.0, 0.0],...   \n",
              "\n",
              "                               Solucion          Tipo de solucion     Valor  \n",
              "0  [[300.0], [420.0], [100.0], [128.0]]  Solucion basica factible  [9660.0]  \n",
              "1   [[540.0], [252.0], [120.0], [18.0]]  Solucion basica factible  [8316.0]  \n",
              "2   [[708.0], [134.4], [246.0], [64.2]]  Solucion basica factible  [4956.0]  \n",
              "3   [[540.0], [90.0], [150.0], [348.0]]  Solucion basica factible  [9720.0]  \n",
              "4  [[630.0], [600.0], [708.0], [135.0]]  Solucion basica factible    [-0.0]  "
            ]
          },
          "metadata": {},
          "output_type": "display_data"
        }
      ],
      "source": [
        "A = np.array([[7/10 ,1,1,0,0,0],[1/2,5/6,0,1,0,0],[1, 2/3, 0,0,1,0], [1/10,1/4,0,0,0,1]])\n",
        "#matriz con los coeficientes de restricciones\n",
        "b=np.array([[630],[600], [708],[135]])\n",
        " # vector de restricciones\n",
        "#vector con los coeficientes de la funcion a minimizar\n",
        "s = PL(A,b,[-7,-18,0,0,0,0])"
      ]
    },
    {
      "cell_type": "markdown",
      "metadata": {},
      "source": [
        "La utilidad obtenida al implementar la alternativa a es de 9720 dólares y se obtiene 540 productos de la línea deluxe y ninguno de la línea estándar."
      ]
    },
    {
      "cell_type": "markdown",
      "metadata": {
        "id": "h0Nu2Y6Ut5Ze"
      },
      "source": [
        "b)  Tamnbién se contempla la posibilidad de incorporar al proceso de producción una materia prima de bajo costo para la fabricación del modelo estándar para que se pueda incrementar su utilidad por bolsa a 14 dólares. La utilidad por bolsa del modelo deluxe permanece en 9 dólares."
      ]
    },
    {
      "cell_type": "code",
      "execution_count": 29,
      "metadata": {
        "colab": {
          "base_uri": "https://localhost:8080/",
          "height": 206
        },
        "id": "v8qwbIPHs-IP",
        "outputId": "554a76b1-2455-479f-8da8-397edeb3482a"
      },
      "outputs": [
        {
          "data": {
            "text/html": [
              "<div>\n",
              "<style scoped>\n",
              "    .dataframe tbody tr th:only-of-type {\n",
              "        vertical-align: middle;\n",
              "    }\n",
              "\n",
              "    .dataframe tbody tr th {\n",
              "        vertical-align: top;\n",
              "    }\n",
              "\n",
              "    .dataframe thead th {\n",
              "        text-align: right;\n",
              "    }\n",
              "</style>\n",
              "<table border=\"1\" class=\"dataframe\">\n",
              "  <thead>\n",
              "    <tr style=\"text-align: right;\">\n",
              "      <th></th>\n",
              "      <th>Base</th>\n",
              "      <th>Solucion</th>\n",
              "      <th>Tipo de solucion</th>\n",
              "      <th>Valor</th>\n",
              "    </tr>\n",
              "  </thead>\n",
              "  <tbody>\n",
              "    <tr>\n",
              "      <th>0</th>\n",
              "      <td>[[0.7, 1.0, 0.0, 0.0, 0.0, 0.0], [0.5, 0.8333333333333334, 0.0, 1.0, 0.0, 0.0], [1.0, 0.66666666...</td>\n",
              "      <td>[[300.0], [420.0], [100.0], [128.0]]</td>\n",
              "      <td>Solucion basica factible</td>\n",
              "      <td>[7980.0]</td>\n",
              "    </tr>\n",
              "    <tr>\n",
              "      <th>1</th>\n",
              "      <td>[[0.7, 1.0, 0.0, 0.0, 0.0, 0.0], [0.5, 0.8333333333333334, 0.0, 1.0, 0.0, 0.0], [1.0, 0.66666666...</td>\n",
              "      <td>[[540.0], [252.0], [120.0], [18.0]]</td>\n",
              "      <td>Solucion basica factible</td>\n",
              "      <td>[9828.0]</td>\n",
              "    </tr>\n",
              "    <tr>\n",
              "      <th>2</th>\n",
              "      <td>[[0.7, 0.0, 1.0, 0.0, 0.0, 0.0], [0.5, 0.0, 0.0, 1.0, 0.0, 0.0], [1.0, 0.0, 0.0, 0.0, 0.0, 0.0],...</td>\n",
              "      <td>[[708.0], [134.4], [246.0], [64.2]]</td>\n",
              "      <td>Solucion basica factible</td>\n",
              "      <td>[9912.0]</td>\n",
              "    </tr>\n",
              "    <tr>\n",
              "      <th>3</th>\n",
              "      <td>[[0.0, 1.0, 1.0, 0.0, 0.0, 0.0], [0.0, 0.8333333333333334, 0.0, 1.0, 0.0, 0.0], [0.0, 0.66666666...</td>\n",
              "      <td>[[540.0], [90.0], [150.0], [348.0]]</td>\n",
              "      <td>Solucion basica factible</td>\n",
              "      <td>[4860.0]</td>\n",
              "    </tr>\n",
              "    <tr>\n",
              "      <th>4</th>\n",
              "      <td>[[0.0, 0.0, 1.0, 0.0, 0.0, 0.0], [0.0, 0.0, 0.0, 1.0, 0.0, 0.0], [0.0, 0.0, 0.0, 0.0, 1.0, 0.0],...</td>\n",
              "      <td>[[630.0], [600.0], [708.0], [135.0]]</td>\n",
              "      <td>Solucion basica factible</td>\n",
              "      <td>[-0.0]</td>\n",
              "    </tr>\n",
              "  </tbody>\n",
              "</table>\n",
              "</div>"
            ],
            "text/plain": [
              "                                                                                                  Base  \\\n",
              "0  [[0.7, 1.0, 0.0, 0.0, 0.0, 0.0], [0.5, 0.8333333333333334, 0.0, 1.0, 0.0, 0.0], [1.0, 0.66666666...   \n",
              "1  [[0.7, 1.0, 0.0, 0.0, 0.0, 0.0], [0.5, 0.8333333333333334, 0.0, 1.0, 0.0, 0.0], [1.0, 0.66666666...   \n",
              "2  [[0.7, 0.0, 1.0, 0.0, 0.0, 0.0], [0.5, 0.0, 0.0, 1.0, 0.0, 0.0], [1.0, 0.0, 0.0, 0.0, 0.0, 0.0],...   \n",
              "3  [[0.0, 1.0, 1.0, 0.0, 0.0, 0.0], [0.0, 0.8333333333333334, 0.0, 1.0, 0.0, 0.0], [0.0, 0.66666666...   \n",
              "4  [[0.0, 0.0, 1.0, 0.0, 0.0, 0.0], [0.0, 0.0, 0.0, 1.0, 0.0, 0.0], [0.0, 0.0, 0.0, 0.0, 1.0, 0.0],...   \n",
              "\n",
              "                               Solucion          Tipo de solucion     Valor  \n",
              "0  [[300.0], [420.0], [100.0], [128.0]]  Solucion basica factible  [7980.0]  \n",
              "1   [[540.0], [252.0], [120.0], [18.0]]  Solucion basica factible  [9828.0]  \n",
              "2   [[708.0], [134.4], [246.0], [64.2]]  Solucion basica factible  [9912.0]  \n",
              "3   [[540.0], [90.0], [150.0], [348.0]]  Solucion basica factible  [4860.0]  \n",
              "4  [[630.0], [600.0], [708.0], [135.0]]  Solucion basica factible    [-0.0]  "
            ]
          },
          "metadata": {},
          "output_type": "display_data"
        }
      ],
      "source": [
        "A = np.array([[7/10 ,1,1,0,0,0],[1/2,5/6,0,1,0,0],[1, 2/3, 0,0,1,0], [1/10,1/4,0,0,0,1]])\n",
        "#matriz con los coeficientes de restricciones\n",
        "b=np.array([[630],[600], [708],[135]])\n",
        "# vector de restricciones\n",
        "#vector con los coeficientes de la funcion a minimizar\n",
        "s = PL(A,b,[-14,-9,0,0,0,0])\n"
      ]
    },
    {
      "cell_type": "markdown",
      "metadata": {},
      "source": [
        "La utilidad obtenida al implementar la alternativa b es de 9912 dólares y se obtiene 708 productos de la línea estándar y ninguno de la línea deluxe."
      ]
    },
    {
      "cell_type": "markdown",
      "metadata": {
        "id": "Q8XN5M04uInn"
      },
      "source": [
        "c) Finalmente, se planea obtener un equipo de trabajo adicional que aumente la cantidad de horas de trabajo disponible en un 70 % para cada proceso. La utilidad por bolsa de los modelos no cambia, 7 dólares para estándar y 9 dólares para deluxe.\n"
      ]
    },
    {
      "cell_type": "code",
      "execution_count": 30,
      "metadata": {
        "colab": {
          "base_uri": "https://localhost:8080/",
          "height": 337
        },
        "id": "adJ1PueOuJB-",
        "outputId": "92bf0278-e7af-4368-c2c8-056a618b1f44"
      },
      "outputs": [
        {
          "data": {
            "text/html": [
              "<div>\n",
              "<style scoped>\n",
              "    .dataframe tbody tr th:only-of-type {\n",
              "        vertical-align: middle;\n",
              "    }\n",
              "\n",
              "    .dataframe tbody tr th {\n",
              "        vertical-align: top;\n",
              "    }\n",
              "\n",
              "    .dataframe thead th {\n",
              "        text-align: right;\n",
              "    }\n",
              "</style>\n",
              "<table border=\"1\" class=\"dataframe\">\n",
              "  <thead>\n",
              "    <tr style=\"text-align: right;\">\n",
              "      <th></th>\n",
              "      <th>Base</th>\n",
              "      <th>Solucion</th>\n",
              "      <th>Tipo de solucion</th>\n",
              "      <th>Valor</th>\n",
              "    </tr>\n",
              "  </thead>\n",
              "  <tbody>\n",
              "    <tr>\n",
              "      <th>0</th>\n",
              "      <td>[[0.7, 1.0, 0.0, 0.0, 0.0, 0.0], [0.5, 0.8333333333333334, 0.0, 1.0, 0.0, 0.0], [1.0, 0.66666666...</td>\n",
              "      <td>[[510.0], [714.0], [170.0], [217.6]]</td>\n",
              "      <td>Solucion basica factible</td>\n",
              "      <td>[9996.0]</td>\n",
              "    </tr>\n",
              "    <tr>\n",
              "      <th>1</th>\n",
              "      <td>[[0.7, 1.0, 0.0, 0.0, 0.0, 0.0], [0.5, 0.8333333333333334, 0.0, 1.0, 0.0, 0.0], [1.0, 0.66666666...</td>\n",
              "      <td>[[918.0], [428.4], [204.0], [30.6]]</td>\n",
              "      <td>Solucion basica factible</td>\n",
              "      <td>[10281.6]</td>\n",
              "    </tr>\n",
              "    <tr>\n",
              "      <th>2</th>\n",
              "      <td>[[0.7, 0.0, 1.0, 0.0, 0.0, 0.0], [0.5, 0.0, 0.0, 1.0, 0.0, 0.0], [1.0, 0.0, 0.0, 0.0, 0.0, 0.0],...</td>\n",
              "      <td>[[1203.6], [228.48], [418.2], [109.14]]</td>\n",
              "      <td>Solucion basica factible</td>\n",
              "      <td>[8425.199999999999]</td>\n",
              "    </tr>\n",
              "    <tr>\n",
              "      <th>3</th>\n",
              "      <td>[[0.0, 1.0, 1.0, 0.0, 0.0, 0.0], [0.0, 0.8333333333333334, 0.0, 1.0, 0.0, 0.0], [0.0, 0.66666666...</td>\n",
              "      <td>[[918.0], [153.0], [255.0], [591.6]]</td>\n",
              "      <td>Solucion basica factible</td>\n",
              "      <td>[8262.0]</td>\n",
              "    </tr>\n",
              "    <tr>\n",
              "      <th>4</th>\n",
              "      <td>[[0.0, 0.0, 1.0, 0.0, 0.0, 0.0], [0.0, 0.0, 0.0, 1.0, 0.0, 0.0], [0.0, 0.0, 0.0, 0.0, 1.0, 0.0],...</td>\n",
              "      <td>[[1071.0], [1020.0], [1203.6], [229.5]]</td>\n",
              "      <td>Solucion basica factible</td>\n",
              "      <td>[-0.0]</td>\n",
              "    </tr>\n",
              "  </tbody>\n",
              "</table>\n",
              "</div>"
            ],
            "text/plain": [
              "                                                                                                  Base  \\\n",
              "0  [[0.7, 1.0, 0.0, 0.0, 0.0, 0.0], [0.5, 0.8333333333333334, 0.0, 1.0, 0.0, 0.0], [1.0, 0.66666666...   \n",
              "1  [[0.7, 1.0, 0.0, 0.0, 0.0, 0.0], [0.5, 0.8333333333333334, 0.0, 1.0, 0.0, 0.0], [1.0, 0.66666666...   \n",
              "2  [[0.7, 0.0, 1.0, 0.0, 0.0, 0.0], [0.5, 0.0, 0.0, 1.0, 0.0, 0.0], [1.0, 0.0, 0.0, 0.0, 0.0, 0.0],...   \n",
              "3  [[0.0, 1.0, 1.0, 0.0, 0.0, 0.0], [0.0, 0.8333333333333334, 0.0, 1.0, 0.0, 0.0], [0.0, 0.66666666...   \n",
              "4  [[0.0, 0.0, 1.0, 0.0, 0.0, 0.0], [0.0, 0.0, 0.0, 1.0, 0.0, 0.0], [0.0, 0.0, 0.0, 0.0, 1.0, 0.0],...   \n",
              "\n",
              "                                  Solucion          Tipo de solucion  \\\n",
              "0     [[510.0], [714.0], [170.0], [217.6]]  Solucion basica factible   \n",
              "1      [[918.0], [428.4], [204.0], [30.6]]  Solucion basica factible   \n",
              "2  [[1203.6], [228.48], [418.2], [109.14]]  Solucion basica factible   \n",
              "3     [[918.0], [153.0], [255.0], [591.6]]  Solucion basica factible   \n",
              "4  [[1071.0], [1020.0], [1203.6], [229.5]]  Solucion basica factible   \n",
              "\n",
              "                 Valor  \n",
              "0             [9996.0]  \n",
              "1            [10281.6]  \n",
              "2  [8425.199999999999]  \n",
              "3             [8262.0]  \n",
              "4               [-0.0]  "
            ]
          },
          "metadata": {},
          "output_type": "display_data"
        }
      ],
      "source": [
        "A = np.array([[7/10 ,1,1,0,0,0],[1/2,5/6,0,1,0,0],[1, 2/3, 0,0,1,0], [1/10,1/4,0,0,0,1]])\n",
        "#matriz con los coeficientes de restricciones\n",
        "b=np.array([[1071],[1020], [1203.6],[229.5]])\n",
        "# vector de restricciones\n",
        "#vector con los coeficientes de la funcion a minimizar\n",
        "s = PL(A,b,[-7,-9,0,0,0,0])\n"
      ]
    },
    {
      "cell_type": "markdown",
      "metadata": {},
      "source": [
        "Finalmente, la utilidad obtenida al implementar la alternativa c es de 10281 dólares y se obtiene 428 productos de la línea deluxe y 918 de la línea estándar."
      ]
    },
    {
      "cell_type": "markdown",
      "metadata": {},
      "source": [
        "## De las tres alternativas planteadas se obtiene que:\n",
        "\n",
        "\n",
        "\n",
        "\n",
        "|Punto\t|Valor|\tS_primal|\n",
        "|:----|:----|:----|\n",
        "|a|9.720|0,540|\n",
        "|b |9.912|708,0|\n",
        "|c | 10.281|918,428|\n",
        "\n"
      ]
    }
  ],
  "metadata": {
    "colab": {
      "provenance": []
    },
    "kernelspec": {
      "display_name": "Python 3",
      "name": "python3"
    },
    "language_info": {
      "name": "python"
    }
  },
  "nbformat": 4,
  "nbformat_minor": 0
}
